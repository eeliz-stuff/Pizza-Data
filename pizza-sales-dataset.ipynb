{
 "cells": [
  {
   "cell_type": "code",
   "execution_count": 1,
   "id": "a58b95c0",
   "metadata": {
    "_cell_guid": "b1076dfc-b9ad-4769-8c92-a6c4dae69d19",
    "_uuid": "8f2839f25d086af736a60e9eeb907d3b93b6e0e5",
    "execution": {
     "iopub.execute_input": "2024-01-10T14:54:31.479801Z",
     "iopub.status.busy": "2024-01-10T14:54:31.479143Z",
     "iopub.status.idle": "2024-01-10T14:54:32.449234Z",
     "shell.execute_reply": "2024-01-10T14:54:32.447747Z"
    },
    "papermill": {
     "duration": 0.985415,
     "end_time": "2024-01-10T14:54:32.452300",
     "exception": false,
     "start_time": "2024-01-10T14:54:31.466885",
     "status": "completed"
    },
    "tags": []
   },
   "outputs": [
    {
     "name": "stdout",
     "output_type": "stream",
     "text": [
      "/kaggle/input/pizza-sales-dataset/pizza_sales.csv\n"
     ]
    }
   ],
   "source": [
    "# This Python 3 environment comes with many helpful analytics libraries installed\n",
    "# It is defined by the kaggle/python Docker image: https://github.com/kaggle/docker-python\n",
    "# For example, here's several helpful packages to load\n",
    "\n",
    "import numpy as np # linear algebra\n",
    "import pandas as pd # data processing, CSV file I/O (e.g. pd.read_csv)\n",
    "\n",
    "# Input data files are available in the read-only \"../input/\" directory\n",
    "# For example, running this (by clicking run or pressing Shift+Enter) will list all files under the input directory\n",
    "\n",
    "import os\n",
    "for dirname, _, filenames in os.walk('/kaggle/input'):\n",
    "    for filename in filenames:\n",
    "        print(os.path.join(dirname, filename))\n",
    "\n",
    "# You can write up to 20GB to the current directory (/kaggle/working/) that gets preserved as output when you create a version using \"Save & Run All\" \n",
    "# You can also write temporary files to /kaggle/temp/, but they won't be saved outside of the current session"
   ]
  },
  {
   "cell_type": "code",
   "execution_count": 2,
   "id": "cdf244b5",
   "metadata": {
    "execution": {
     "iopub.execute_input": "2024-01-10T14:54:32.474605Z",
     "iopub.status.busy": "2024-01-10T14:54:32.473930Z",
     "iopub.status.idle": "2024-01-10T14:54:32.835234Z",
     "shell.execute_reply": "2024-01-10T14:54:32.833671Z"
    },
    "papermill": {
     "duration": 0.376223,
     "end_time": "2024-01-10T14:54:32.838404",
     "exception": false,
     "start_time": "2024-01-10T14:54:32.462181",
     "status": "completed"
    },
    "tags": []
   },
   "outputs": [
    {
     "data": {
      "text/html": [
       "<div>\n",
       "<style scoped>\n",
       "    .dataframe tbody tr th:only-of-type {\n",
       "        vertical-align: middle;\n",
       "    }\n",
       "\n",
       "    .dataframe tbody tr th {\n",
       "        vertical-align: top;\n",
       "    }\n",
       "\n",
       "    .dataframe thead th {\n",
       "        text-align: right;\n",
       "    }\n",
       "</style>\n",
       "<table border=\"1\" class=\"dataframe\">\n",
       "  <thead>\n",
       "    <tr style=\"text-align: right;\">\n",
       "      <th></th>\n",
       "      <th>pizza_id</th>\n",
       "      <th>order_id</th>\n",
       "      <th>pizza_name_id</th>\n",
       "      <th>quantity</th>\n",
       "      <th>order_date</th>\n",
       "      <th>order_time</th>\n",
       "      <th>unit_price</th>\n",
       "      <th>total_price</th>\n",
       "      <th>pizza_size</th>\n",
       "      <th>pizza_category</th>\n",
       "      <th>pizza_ingredients</th>\n",
       "      <th>pizza_name</th>\n",
       "    </tr>\n",
       "  </thead>\n",
       "  <tbody>\n",
       "    <tr>\n",
       "      <th>0</th>\n",
       "      <td>1.0</td>\n",
       "      <td>1.0</td>\n",
       "      <td>hawaiian_m</td>\n",
       "      <td>1.0</td>\n",
       "      <td>1/1/2015</td>\n",
       "      <td>11:38:36</td>\n",
       "      <td>13.25</td>\n",
       "      <td>13.25</td>\n",
       "      <td>M</td>\n",
       "      <td>Classic</td>\n",
       "      <td>Sliced Ham, Pineapple, Mozzarella Cheese</td>\n",
       "      <td>The Hawaiian Pizza</td>\n",
       "    </tr>\n",
       "    <tr>\n",
       "      <th>1</th>\n",
       "      <td>2.0</td>\n",
       "      <td>2.0</td>\n",
       "      <td>classic_dlx_m</td>\n",
       "      <td>1.0</td>\n",
       "      <td>1/1/2015</td>\n",
       "      <td>11:57:40</td>\n",
       "      <td>16.00</td>\n",
       "      <td>16.00</td>\n",
       "      <td>M</td>\n",
       "      <td>Classic</td>\n",
       "      <td>Pepperoni, Mushrooms, Red Onions, Red Peppers,...</td>\n",
       "      <td>The Classic Deluxe Pizza</td>\n",
       "    </tr>\n",
       "    <tr>\n",
       "      <th>2</th>\n",
       "      <td>3.0</td>\n",
       "      <td>2.0</td>\n",
       "      <td>five_cheese_l</td>\n",
       "      <td>1.0</td>\n",
       "      <td>1/1/2015</td>\n",
       "      <td>11:57:40</td>\n",
       "      <td>18.50</td>\n",
       "      <td>18.50</td>\n",
       "      <td>L</td>\n",
       "      <td>Veggie</td>\n",
       "      <td>Mozzarella Cheese, Provolone Cheese, Smoked Go...</td>\n",
       "      <td>The Five Cheese Pizza</td>\n",
       "    </tr>\n",
       "    <tr>\n",
       "      <th>3</th>\n",
       "      <td>4.0</td>\n",
       "      <td>2.0</td>\n",
       "      <td>ital_supr_l</td>\n",
       "      <td>1.0</td>\n",
       "      <td>1/1/2015</td>\n",
       "      <td>11:57:40</td>\n",
       "      <td>20.75</td>\n",
       "      <td>20.75</td>\n",
       "      <td>L</td>\n",
       "      <td>Supreme</td>\n",
       "      <td>Calabrese Salami, Capocollo, Tomatoes, Red Oni...</td>\n",
       "      <td>The Italian Supreme Pizza</td>\n",
       "    </tr>\n",
       "    <tr>\n",
       "      <th>4</th>\n",
       "      <td>5.0</td>\n",
       "      <td>2.0</td>\n",
       "      <td>mexicana_m</td>\n",
       "      <td>1.0</td>\n",
       "      <td>1/1/2015</td>\n",
       "      <td>11:57:40</td>\n",
       "      <td>16.00</td>\n",
       "      <td>16.00</td>\n",
       "      <td>M</td>\n",
       "      <td>Veggie</td>\n",
       "      <td>Tomatoes, Red Peppers, Jalapeno Peppers, Red O...</td>\n",
       "      <td>The Mexicana Pizza</td>\n",
       "    </tr>\n",
       "  </tbody>\n",
       "</table>\n",
       "</div>"
      ],
      "text/plain": [
       "   pizza_id  order_id  pizza_name_id  quantity order_date order_time  \\\n",
       "0       1.0       1.0     hawaiian_m       1.0   1/1/2015   11:38:36   \n",
       "1       2.0       2.0  classic_dlx_m       1.0   1/1/2015   11:57:40   \n",
       "2       3.0       2.0  five_cheese_l       1.0   1/1/2015   11:57:40   \n",
       "3       4.0       2.0    ital_supr_l       1.0   1/1/2015   11:57:40   \n",
       "4       5.0       2.0     mexicana_m       1.0   1/1/2015   11:57:40   \n",
       "\n",
       "   unit_price  total_price pizza_size pizza_category  \\\n",
       "0       13.25        13.25          M        Classic   \n",
       "1       16.00        16.00          M        Classic   \n",
       "2       18.50        18.50          L         Veggie   \n",
       "3       20.75        20.75          L        Supreme   \n",
       "4       16.00        16.00          M         Veggie   \n",
       "\n",
       "                                   pizza_ingredients  \\\n",
       "0           Sliced Ham, Pineapple, Mozzarella Cheese   \n",
       "1  Pepperoni, Mushrooms, Red Onions, Red Peppers,...   \n",
       "2  Mozzarella Cheese, Provolone Cheese, Smoked Go...   \n",
       "3  Calabrese Salami, Capocollo, Tomatoes, Red Oni...   \n",
       "4  Tomatoes, Red Peppers, Jalapeno Peppers, Red O...   \n",
       "\n",
       "                  pizza_name  \n",
       "0         The Hawaiian Pizza  \n",
       "1   The Classic Deluxe Pizza  \n",
       "2      The Five Cheese Pizza  \n",
       "3  The Italian Supreme Pizza  \n",
       "4         The Mexicana Pizza  "
      ]
     },
     "execution_count": 2,
     "metadata": {},
     "output_type": "execute_result"
    }
   ],
   "source": [
    "data = pd.read_csv('/kaggle/input/pizza-sales-dataset/pizza_sales.csv')\n",
    "data.head()"
   ]
  },
  {
   "cell_type": "code",
   "execution_count": 3,
   "id": "cea28866",
   "metadata": {
    "execution": {
     "iopub.execute_input": "2024-01-10T14:54:32.860163Z",
     "iopub.status.busy": "2024-01-10T14:54:32.859715Z",
     "iopub.status.idle": "2024-01-10T14:54:32.912823Z",
     "shell.execute_reply": "2024-01-10T14:54:32.911598Z"
    },
    "papermill": {
     "duration": 0.069305,
     "end_time": "2024-01-10T14:54:32.917326",
     "exception": false,
     "start_time": "2024-01-10T14:54:32.848021",
     "status": "completed"
    },
    "tags": []
   },
   "outputs": [
    {
     "data": {
      "text/plain": [
       "pizza_id             0\n",
       "order_id             0\n",
       "pizza_name_id        0\n",
       "quantity             0\n",
       "order_date           0\n",
       "order_time           0\n",
       "unit_price           0\n",
       "total_price          0\n",
       "pizza_size           0\n",
       "pizza_category       0\n",
       "pizza_ingredients    0\n",
       "pizza_name           0\n",
       "dtype: int64"
      ]
     },
     "execution_count": 3,
     "metadata": {},
     "output_type": "execute_result"
    }
   ],
   "source": [
    "data.isnull().sum()"
   ]
  },
  {
   "cell_type": "code",
   "execution_count": 4,
   "id": "878d2740",
   "metadata": {
    "execution": {
     "iopub.execute_input": "2024-01-10T14:54:32.948750Z",
     "iopub.status.busy": "2024-01-10T14:54:32.947716Z",
     "iopub.status.idle": "2024-01-10T14:54:32.959160Z",
     "shell.execute_reply": "2024-01-10T14:54:32.958137Z"
    },
    "papermill": {
     "duration": 0.032288,
     "end_time": "2024-01-10T14:54:32.963245",
     "exception": false,
     "start_time": "2024-01-10T14:54:32.930957",
     "status": "completed"
    },
    "tags": []
   },
   "outputs": [
    {
     "data": {
      "text/plain": [
       "pizza_id             float64\n",
       "order_id             float64\n",
       "pizza_name_id         object\n",
       "quantity             float64\n",
       "order_date            object\n",
       "order_time            object\n",
       "unit_price           float64\n",
       "total_price          float64\n",
       "pizza_size            object\n",
       "pizza_category        object\n",
       "pizza_ingredients     object\n",
       "pizza_name            object\n",
       "dtype: object"
      ]
     },
     "execution_count": 4,
     "metadata": {},
     "output_type": "execute_result"
    }
   ],
   "source": [
    "data.dtypes"
   ]
  },
  {
   "cell_type": "code",
   "execution_count": 5,
   "id": "336c2741",
   "metadata": {
    "execution": {
     "iopub.execute_input": "2024-01-10T14:54:32.989018Z",
     "iopub.status.busy": "2024-01-10T14:54:32.987871Z",
     "iopub.status.idle": "2024-01-10T14:54:32.997341Z",
     "shell.execute_reply": "2024-01-10T14:54:32.996015Z"
    },
    "papermill": {
     "duration": 0.024438,
     "end_time": "2024-01-10T14:54:33.000136",
     "exception": false,
     "start_time": "2024-01-10T14:54:32.975698",
     "status": "completed"
    },
    "tags": []
   },
   "outputs": [
    {
     "data": {
      "text/plain": [
       "(48620, 12)"
      ]
     },
     "execution_count": 5,
     "metadata": {},
     "output_type": "execute_result"
    }
   ],
   "source": [
    "data.shape"
   ]
  },
  {
   "cell_type": "code",
   "execution_count": 6,
   "id": "942e55e8",
   "metadata": {
    "execution": {
     "iopub.execute_input": "2024-01-10T14:54:33.023752Z",
     "iopub.status.busy": "2024-01-10T14:54:33.023224Z",
     "iopub.status.idle": "2024-01-10T14:54:33.097133Z",
     "shell.execute_reply": "2024-01-10T14:54:33.095820Z"
    },
    "papermill": {
     "duration": 0.089977,
     "end_time": "2024-01-10T14:54:33.100740",
     "exception": false,
     "start_time": "2024-01-10T14:54:33.010763",
     "status": "completed"
    },
    "tags": []
   },
   "outputs": [
    {
     "name": "stdout",
     "output_type": "stream",
     "text": [
      "<class 'pandas.core.frame.DataFrame'>\n",
      "RangeIndex: 48620 entries, 0 to 48619\n",
      "Data columns (total 12 columns):\n",
      " #   Column             Non-Null Count  Dtype  \n",
      "---  ------             --------------  -----  \n",
      " 0   pizza_id           48620 non-null  float64\n",
      " 1   order_id           48620 non-null  float64\n",
      " 2   pizza_name_id      48620 non-null  object \n",
      " 3   quantity           48620 non-null  float64\n",
      " 4   order_date         48620 non-null  object \n",
      " 5   order_time         48620 non-null  object \n",
      " 6   unit_price         48620 non-null  float64\n",
      " 7   total_price        48620 non-null  float64\n",
      " 8   pizza_size         48620 non-null  object \n",
      " 9   pizza_category     48620 non-null  object \n",
      " 10  pizza_ingredients  48620 non-null  object \n",
      " 11  pizza_name         48620 non-null  object \n",
      "dtypes: float64(5), object(7)\n",
      "memory usage: 4.5+ MB\n"
     ]
    }
   ],
   "source": [
    "data.info()"
   ]
  },
  {
   "cell_type": "code",
   "execution_count": 7,
   "id": "267779ff",
   "metadata": {
    "execution": {
     "iopub.execute_input": "2024-01-10T14:54:33.133844Z",
     "iopub.status.busy": "2024-01-10T14:54:33.132361Z",
     "iopub.status.idle": "2024-01-10T14:54:33.164772Z",
     "shell.execute_reply": "2024-01-10T14:54:33.163383Z"
    },
    "papermill": {
     "duration": 0.05535,
     "end_time": "2024-01-10T14:54:33.170826",
     "exception": false,
     "start_time": "2024-01-10T14:54:33.115476",
     "status": "completed"
    },
    "tags": []
   },
   "outputs": [
    {
     "data": {
      "text/html": [
       "<div>\n",
       "<style scoped>\n",
       "    .dataframe tbody tr th:only-of-type {\n",
       "        vertical-align: middle;\n",
       "    }\n",
       "\n",
       "    .dataframe tbody tr th {\n",
       "        vertical-align: top;\n",
       "    }\n",
       "\n",
       "    .dataframe thead th {\n",
       "        text-align: right;\n",
       "    }\n",
       "</style>\n",
       "<table border=\"1\" class=\"dataframe\">\n",
       "  <thead>\n",
       "    <tr style=\"text-align: right;\">\n",
       "      <th></th>\n",
       "      <th>pizza_id</th>\n",
       "      <th>order_id</th>\n",
       "      <th>pizza_name_id</th>\n",
       "      <th>quantity</th>\n",
       "      <th>order_date</th>\n",
       "      <th>order_time</th>\n",
       "      <th>unit_price</th>\n",
       "      <th>total_price</th>\n",
       "      <th>pizza_size</th>\n",
       "      <th>pizza_category</th>\n",
       "      <th>pizza_ingredients</th>\n",
       "      <th>pizza_name</th>\n",
       "    </tr>\n",
       "  </thead>\n",
       "  <tbody>\n",
       "    <tr>\n",
       "      <th>0</th>\n",
       "      <td>1.0</td>\n",
       "      <td>1.0</td>\n",
       "      <td>hawaiian_m</td>\n",
       "      <td>1.0</td>\n",
       "      <td>1/1/2015</td>\n",
       "      <td>11:38:36</td>\n",
       "      <td>13.25</td>\n",
       "      <td>13.25</td>\n",
       "      <td>M</td>\n",
       "      <td>Classic</td>\n",
       "      <td>Sliced Ham, Pineapple, Mozzarella Cheese</td>\n",
       "      <td>The Hawaiian Pizza</td>\n",
       "    </tr>\n",
       "    <tr>\n",
       "      <th>1</th>\n",
       "      <td>2.0</td>\n",
       "      <td>2.0</td>\n",
       "      <td>classic_dlx_m</td>\n",
       "      <td>1.0</td>\n",
       "      <td>1/1/2015</td>\n",
       "      <td>11:57:40</td>\n",
       "      <td>16.00</td>\n",
       "      <td>16.00</td>\n",
       "      <td>M</td>\n",
       "      <td>Classic</td>\n",
       "      <td>Pepperoni, Mushrooms, Red Onions, Red Peppers,...</td>\n",
       "      <td>The Classic Deluxe Pizza</td>\n",
       "    </tr>\n",
       "    <tr>\n",
       "      <th>2</th>\n",
       "      <td>3.0</td>\n",
       "      <td>2.0</td>\n",
       "      <td>five_cheese_l</td>\n",
       "      <td>1.0</td>\n",
       "      <td>1/1/2015</td>\n",
       "      <td>11:57:40</td>\n",
       "      <td>18.50</td>\n",
       "      <td>18.50</td>\n",
       "      <td>L</td>\n",
       "      <td>Veggie</td>\n",
       "      <td>Mozzarella Cheese, Provolone Cheese, Smoked Go...</td>\n",
       "      <td>The Five Cheese Pizza</td>\n",
       "    </tr>\n",
       "    <tr>\n",
       "      <th>3</th>\n",
       "      <td>4.0</td>\n",
       "      <td>2.0</td>\n",
       "      <td>ital_supr_l</td>\n",
       "      <td>1.0</td>\n",
       "      <td>1/1/2015</td>\n",
       "      <td>11:57:40</td>\n",
       "      <td>20.75</td>\n",
       "      <td>20.75</td>\n",
       "      <td>L</td>\n",
       "      <td>Supreme</td>\n",
       "      <td>Calabrese Salami, Capocollo, Tomatoes, Red Oni...</td>\n",
       "      <td>The Italian Supreme Pizza</td>\n",
       "    </tr>\n",
       "    <tr>\n",
       "      <th>4</th>\n",
       "      <td>5.0</td>\n",
       "      <td>2.0</td>\n",
       "      <td>mexicana_m</td>\n",
       "      <td>1.0</td>\n",
       "      <td>1/1/2015</td>\n",
       "      <td>11:57:40</td>\n",
       "      <td>16.00</td>\n",
       "      <td>16.00</td>\n",
       "      <td>M</td>\n",
       "      <td>Veggie</td>\n",
       "      <td>Tomatoes, Red Peppers, Jalapeno Peppers, Red O...</td>\n",
       "      <td>The Mexicana Pizza</td>\n",
       "    </tr>\n",
       "  </tbody>\n",
       "</table>\n",
       "</div>"
      ],
      "text/plain": [
       "   pizza_id  order_id  pizza_name_id  quantity order_date order_time  \\\n",
       "0       1.0       1.0     hawaiian_m       1.0   1/1/2015   11:38:36   \n",
       "1       2.0       2.0  classic_dlx_m       1.0   1/1/2015   11:57:40   \n",
       "2       3.0       2.0  five_cheese_l       1.0   1/1/2015   11:57:40   \n",
       "3       4.0       2.0    ital_supr_l       1.0   1/1/2015   11:57:40   \n",
       "4       5.0       2.0     mexicana_m       1.0   1/1/2015   11:57:40   \n",
       "\n",
       "   unit_price  total_price pizza_size pizza_category  \\\n",
       "0       13.25        13.25          M        Classic   \n",
       "1       16.00        16.00          M        Classic   \n",
       "2       18.50        18.50          L         Veggie   \n",
       "3       20.75        20.75          L        Supreme   \n",
       "4       16.00        16.00          M         Veggie   \n",
       "\n",
       "                                   pizza_ingredients  \\\n",
       "0           Sliced Ham, Pineapple, Mozzarella Cheese   \n",
       "1  Pepperoni, Mushrooms, Red Onions, Red Peppers,...   \n",
       "2  Mozzarella Cheese, Provolone Cheese, Smoked Go...   \n",
       "3  Calabrese Salami, Capocollo, Tomatoes, Red Oni...   \n",
       "4  Tomatoes, Red Peppers, Jalapeno Peppers, Red O...   \n",
       "\n",
       "                  pizza_name  \n",
       "0         The Hawaiian Pizza  \n",
       "1   The Classic Deluxe Pizza  \n",
       "2      The Five Cheese Pizza  \n",
       "3  The Italian Supreme Pizza  \n",
       "4         The Mexicana Pizza  "
      ]
     },
     "execution_count": 7,
     "metadata": {},
     "output_type": "execute_result"
    }
   ],
   "source": [
    "data.head()"
   ]
  },
  {
   "cell_type": "code",
   "execution_count": 8,
   "id": "f2426c4a",
   "metadata": {
    "execution": {
     "iopub.execute_input": "2024-01-10T14:54:33.208151Z",
     "iopub.status.busy": "2024-01-10T14:54:33.206296Z",
     "iopub.status.idle": "2024-01-10T14:54:33.224692Z",
     "shell.execute_reply": "2024-01-10T14:54:33.223336Z"
    },
    "papermill": {
     "duration": 0.040127,
     "end_time": "2024-01-10T14:54:33.227822",
     "exception": false,
     "start_time": "2024-01-10T14:54:33.187695",
     "status": "completed"
    },
    "tags": []
   },
   "outputs": [
    {
     "data": {
      "text/plain": [
       "total_price\n",
       "20.75    8485\n",
       "12.00    5465\n",
       "16.00    4428\n",
       "16.75    4211\n",
       "16.50    3970\n",
       "12.50    3278\n",
       "20.25    2971\n",
       "12.75    2485\n",
       "20.50    1971\n",
       "18.50    1310\n",
       "17.95    1230\n",
       "16.25    1094\n",
       "10.50     982\n",
       "12.25     810\n",
       "9.75      727\n",
       "15.25     696\n",
       "14.75     568\n",
       "11.00     562\n",
       "25.50     558\n",
       "23.65     470\n",
       "13.25     463\n",
       "14.50     385\n",
       "17.50     378\n",
       "21.00     209\n",
       "41.50     195\n",
       "24.00     128\n",
       "33.50      80\n",
       "33.00      69\n",
       "40.50      61\n",
       "37.00      48\n",
       "25.00      48\n",
       "32.00      44\n",
       "35.90      43\n",
       "35.95      28\n",
       "41.00      26\n",
       "24.50      20\n",
       "32.50      18\n",
       "30.50      16\n",
       "19.50      12\n",
       "47.30      10\n",
       "26.50      10\n",
       "29.50       9\n",
       "51.00       8\n",
       "22.00       8\n",
       "29.00       6\n",
       "36.00       5\n",
       "62.25       4\n",
       "48.00       4\n",
       "35.00       3\n",
       "50.25       3\n",
       "48.75       2\n",
       "37.50       2\n",
       "83.00       1\n",
       "61.50       1\n",
       "49.50       1\n",
       "55.50       1\n",
       "Name: count, dtype: int64"
      ]
     },
     "execution_count": 8,
     "metadata": {},
     "output_type": "execute_result"
    }
   ],
   "source": [
    "data['total_price'].value_counts()"
   ]
  },
  {
   "cell_type": "code",
   "execution_count": 9,
   "id": "c0ceea7f",
   "metadata": {
    "execution": {
     "iopub.execute_input": "2024-01-10T14:54:33.258322Z",
     "iopub.status.busy": "2024-01-10T14:54:33.257441Z",
     "iopub.status.idle": "2024-01-10T14:54:34.186330Z",
     "shell.execute_reply": "2024-01-10T14:54:34.181878Z"
    },
    "papermill": {
     "duration": 0.94824,
     "end_time": "2024-01-10T14:54:34.190305",
     "exception": false,
     "start_time": "2024-01-10T14:54:33.242065",
     "status": "completed"
    },
    "tags": []
   },
   "outputs": [
    {
     "data": {
      "text/plain": [
       "<Axes: xlabel='total_price'>"
      ]
     },
     "execution_count": 9,
     "metadata": {},
     "output_type": "execute_result"
    },
    {
     "data": {
      "image/png": "[encoded data removed]",
      "text/plain": [
       "<Figure size 640x480 with 1 Axes>"
      ]
     },
     "metadata": {},
     "output_type": "display_data"
    }
   ],
   "source": [
    "import matplotlib.pyplot as plt\n",
    "\n",
    "data['total_price'].value_counts().plot(kind='bar', color=['red', 'blue'])\n"
   ]
  },
  {
   "cell_type": "code",
   "execution_count": 10,
   "id": "61f46b4c",
   "metadata": {
    "execution": {
     "iopub.execute_input": "2024-01-10T14:54:34.223727Z",
     "iopub.status.busy": "2024-01-10T14:54:34.223000Z",
     "iopub.status.idle": "2024-01-10T14:54:34.685506Z",
     "shell.execute_reply": "2024-01-10T14:54:34.683938Z"
    },
    "papermill": {
     "duration": 0.482234,
     "end_time": "2024-01-10T14:54:34.689978",
     "exception": false,
     "start_time": "2024-01-10T14:54:34.207744",
     "status": "completed"
    },
    "tags": []
   },
   "outputs": [
    {
     "data": {
      "text/plain": [
       "<Axes: xlabel='unit_price'>"
      ]
     },
     "execution_count": 10,
     "metadata": {},
     "output_type": "execute_result"
    },
    {
     "data": {
      "image/png": "[encoded data removed]",
      "text/plain": [
       "<Figure size 640x480 with 1 Axes>"
      ]
     },
     "metadata": {},
     "output_type": "display_data"
    }
   ],
   "source": [
    "data['unit_price'].value_counts().plot(kind='bar', color=['red', 'blue'])\n"
   ]
  },
  {
   "cell_type": "code",
   "execution_count": 11,
   "id": "8ed33304",
   "metadata": {
    "execution": {
     "iopub.execute_input": "2024-01-10T14:54:34.717011Z",
     "iopub.status.busy": "2024-01-10T14:54:34.716572Z",
     "iopub.status.idle": "2024-01-10T14:54:35.021390Z",
     "shell.execute_reply": "2024-01-10T14:54:35.019737Z"
    },
    "papermill": {
     "duration": 0.322954,
     "end_time": "2024-01-10T14:54:35.025081",
     "exception": false,
     "start_time": "2024-01-10T14:54:34.702127",
     "status": "completed"
    },
    "tags": []
   },
   "outputs": [
    {
     "data": {
      "text/plain": [
       "<Axes: xlabel='pizza_category'>"
      ]
     },
     "execution_count": 11,
     "metadata": {},
     "output_type": "execute_result"
    },
    {
     "data": {
      "image/png": "[encoded data removed]",
      "text/plain": [
       "<Figure size 640x480 with 1 Axes>"
      ]
     },
     "metadata": {},
     "output_type": "display_data"
    }
   ],
   "source": [
    "\n",
    "data['pizza_category'].value_counts().plot(kind='bar', color=['red', 'blue'])\n"
   ]
  },
  {
   "cell_type": "code",
   "execution_count": 12,
   "id": "5e46f311",
   "metadata": {
    "execution": {
     "iopub.execute_input": "2024-01-10T14:54:35.053034Z",
     "iopub.status.busy": "2024-01-10T14:54:35.052558Z",
     "iopub.status.idle": "2024-01-10T14:54:35.075905Z",
     "shell.execute_reply": "2024-01-10T14:54:35.074653Z"
    },
    "papermill": {
     "duration": 0.040725,
     "end_time": "2024-01-10T14:54:35.078906",
     "exception": false,
     "start_time": "2024-01-10T14:54:35.038181",
     "status": "completed"
    },
    "tags": []
   },
   "outputs": [
    {
     "data": {
      "text/html": [
       "<div>\n",
       "<style scoped>\n",
       "    .dataframe tbody tr th:only-of-type {\n",
       "        vertical-align: middle;\n",
       "    }\n",
       "\n",
       "    .dataframe tbody tr th {\n",
       "        vertical-align: top;\n",
       "    }\n",
       "\n",
       "    .dataframe thead th {\n",
       "        text-align: right;\n",
       "    }\n",
       "</style>\n",
       "<table border=\"1\" class=\"dataframe\">\n",
       "  <thead>\n",
       "    <tr style=\"text-align: right;\">\n",
       "      <th></th>\n",
       "      <th>pizza_id</th>\n",
       "      <th>order_id</th>\n",
       "      <th>pizza_name_id</th>\n",
       "      <th>quantity</th>\n",
       "      <th>order_date</th>\n",
       "      <th>order_time</th>\n",
       "      <th>unit_price</th>\n",
       "      <th>total_price</th>\n",
       "      <th>pizza_size</th>\n",
       "      <th>pizza_category</th>\n",
       "      <th>pizza_ingredients</th>\n",
       "      <th>pizza_name</th>\n",
       "    </tr>\n",
       "  </thead>\n",
       "  <tbody>\n",
       "    <tr>\n",
       "      <th>0</th>\n",
       "      <td>1.0</td>\n",
       "      <td>1.0</td>\n",
       "      <td>hawaiian_m</td>\n",
       "      <td>1.0</td>\n",
       "      <td>1/1/2015</td>\n",
       "      <td>11:38:36</td>\n",
       "      <td>13.25</td>\n",
       "      <td>13.25</td>\n",
       "      <td>M</td>\n",
       "      <td>Classic</td>\n",
       "      <td>Sliced Ham, Pineapple, Mozzarella Cheese</td>\n",
       "      <td>The Hawaiian Pizza</td>\n",
       "    </tr>\n",
       "    <tr>\n",
       "      <th>1</th>\n",
       "      <td>2.0</td>\n",
       "      <td>2.0</td>\n",
       "      <td>classic_dlx_m</td>\n",
       "      <td>1.0</td>\n",
       "      <td>1/1/2015</td>\n",
       "      <td>11:57:40</td>\n",
       "      <td>16.00</td>\n",
       "      <td>16.00</td>\n",
       "      <td>M</td>\n",
       "      <td>Classic</td>\n",
       "      <td>Pepperoni, Mushrooms, Red Onions, Red Peppers,...</td>\n",
       "      <td>The Classic Deluxe Pizza</td>\n",
       "    </tr>\n",
       "    <tr>\n",
       "      <th>2</th>\n",
       "      <td>3.0</td>\n",
       "      <td>2.0</td>\n",
       "      <td>five_cheese_l</td>\n",
       "      <td>1.0</td>\n",
       "      <td>1/1/2015</td>\n",
       "      <td>11:57:40</td>\n",
       "      <td>18.50</td>\n",
       "      <td>18.50</td>\n",
       "      <td>L</td>\n",
       "      <td>Veggie</td>\n",
       "      <td>Mozzarella Cheese, Provolone Cheese, Smoked Go...</td>\n",
       "      <td>The Five Cheese Pizza</td>\n",
       "    </tr>\n",
       "    <tr>\n",
       "      <th>3</th>\n",
       "      <td>4.0</td>\n",
       "      <td>2.0</td>\n",
       "      <td>ital_supr_l</td>\n",
       "      <td>1.0</td>\n",
       "      <td>1/1/2015</td>\n",
       "      <td>11:57:40</td>\n",
       "      <td>20.75</td>\n",
       "      <td>20.75</td>\n",
       "      <td>L</td>\n",
       "      <td>Supreme</td>\n",
       "      <td>Calabrese Salami, Capocollo, Tomatoes, Red Oni...</td>\n",
       "      <td>The Italian Supreme Pizza</td>\n",
       "    </tr>\n",
       "    <tr>\n",
       "      <th>4</th>\n",
       "      <td>5.0</td>\n",
       "      <td>2.0</td>\n",
       "      <td>mexicana_m</td>\n",
       "      <td>1.0</td>\n",
       "      <td>1/1/2015</td>\n",
       "      <td>11:57:40</td>\n",
       "      <td>16.00</td>\n",
       "      <td>16.00</td>\n",
       "      <td>M</td>\n",
       "      <td>Veggie</td>\n",
       "      <td>Tomatoes, Red Peppers, Jalapeno Peppers, Red O...</td>\n",
       "      <td>The Mexicana Pizza</td>\n",
       "    </tr>\n",
       "  </tbody>\n",
       "</table>\n",
       "</div>"
      ],
      "text/plain": [
       "   pizza_id  order_id  pizza_name_id  quantity order_date order_time  \\\n",
       "0       1.0       1.0     hawaiian_m       1.0   1/1/2015   11:38:36   \n",
       "1       2.0       2.0  classic_dlx_m       1.0   1/1/2015   11:57:40   \n",
       "2       3.0       2.0  five_cheese_l       1.0   1/1/2015   11:57:40   \n",
       "3       4.0       2.0    ital_supr_l       1.0   1/1/2015   11:57:40   \n",
       "4       5.0       2.0     mexicana_m       1.0   1/1/2015   11:57:40   \n",
       "\n",
       "   unit_price  total_price pizza_size pizza_category  \\\n",
       "0       13.25        13.25          M        Classic   \n",
       "1       16.00        16.00          M        Classic   \n",
       "2       18.50        18.50          L         Veggie   \n",
       "3       20.75        20.75          L        Supreme   \n",
       "4       16.00        16.00          M         Veggie   \n",
       "\n",
       "                                   pizza_ingredients  \\\n",
       "0           Sliced Ham, Pineapple, Mozzarella Cheese   \n",
       "1  Pepperoni, Mushrooms, Red Onions, Red Peppers,...   \n",
       "2  Mozzarella Cheese, Provolone Cheese, Smoked Go...   \n",
       "3  Calabrese Salami, Capocollo, Tomatoes, Red Oni...   \n",
       "4  Tomatoes, Red Peppers, Jalapeno Peppers, Red O...   \n",
       "\n",
       "                  pizza_name  \n",
       "0         The Hawaiian Pizza  \n",
       "1   The Classic Deluxe Pizza  \n",
       "2      The Five Cheese Pizza  \n",
       "3  The Italian Supreme Pizza  \n",
       "4         The Mexicana Pizza  "
      ]
     },
     "execution_count": 12,
     "metadata": {},
     "output_type": "execute_result"
    }
   ],
   "source": [
    "data.head()"
   ]
  },
  {
   "cell_type": "code",
   "execution_count": 13,
   "id": "c1b081d0",
   "metadata": {
    "execution": {
     "iopub.execute_input": "2024-01-10T14:54:35.108510Z",
     "iopub.status.busy": "2024-01-10T14:54:35.107717Z",
     "iopub.status.idle": "2024-01-10T14:54:35.135062Z",
     "shell.execute_reply": "2024-01-10T14:54:35.133375Z"
    },
    "papermill": {
     "duration": 0.046003,
     "end_time": "2024-01-10T14:54:35.138338",
     "exception": false,
     "start_time": "2024-01-10T14:54:35.092335",
     "status": "completed"
    },
    "tags": []
   },
   "outputs": [
    {
     "data": {
      "text/html": [
       "<div>\n",
       "<style scoped>\n",
       "    .dataframe tbody tr th:only-of-type {\n",
       "        vertical-align: middle;\n",
       "    }\n",
       "\n",
       "    .dataframe tbody tr th {\n",
       "        vertical-align: top;\n",
       "    }\n",
       "\n",
       "    .dataframe thead th {\n",
       "        text-align: right;\n",
       "    }\n",
       "</style>\n",
       "<table border=\"1\" class=\"dataframe\">\n",
       "  <thead>\n",
       "    <tr style=\"text-align: right;\">\n",
       "      <th></th>\n",
       "      <th>pizza_id</th>\n",
       "      <th>order_id</th>\n",
       "      <th>quantity</th>\n",
       "      <th>unit_price</th>\n",
       "      <th>total_price</th>\n",
       "      <th>pizza_size</th>\n",
       "      <th>pizza_category</th>\n",
       "    </tr>\n",
       "  </thead>\n",
       "  <tbody>\n",
       "    <tr>\n",
       "      <th>0</th>\n",
       "      <td>1.0</td>\n",
       "      <td>1.0</td>\n",
       "      <td>1.0</td>\n",
       "      <td>13.25</td>\n",
       "      <td>13.25</td>\n",
       "      <td>M</td>\n",
       "      <td>Classic</td>\n",
       "    </tr>\n",
       "    <tr>\n",
       "      <th>1</th>\n",
       "      <td>2.0</td>\n",
       "      <td>2.0</td>\n",
       "      <td>1.0</td>\n",
       "      <td>16.00</td>\n",
       "      <td>16.00</td>\n",
       "      <td>M</td>\n",
       "      <td>Classic</td>\n",
       "    </tr>\n",
       "  </tbody>\n",
       "</table>\n",
       "</div>"
      ],
      "text/plain": [
       "   pizza_id  order_id  quantity  unit_price  total_price pizza_size  \\\n",
       "0       1.0       1.0       1.0       13.25        13.25          M   \n",
       "1       2.0       2.0       1.0       16.00        16.00          M   \n",
       "\n",
       "  pizza_category  \n",
       "0        Classic  \n",
       "1        Classic  "
      ]
     },
     "execution_count": 13,
     "metadata": {},
     "output_type": "execute_result"
    }
   ],
   "source": [
    "df = data.drop(['order_date', 'order_time', 'pizza_ingredients', 'pizza_name', 'pizza_name_id'], axis=1)\n",
    "df.head(2)"
   ]
  },
  {
   "cell_type": "code",
   "execution_count": 14,
   "id": "3e5a42ff",
   "metadata": {
    "execution": {
     "iopub.execute_input": "2024-01-10T14:54:35.167018Z",
     "iopub.status.busy": "2024-01-10T14:54:35.166586Z",
     "iopub.status.idle": "2024-01-10T14:54:37.037950Z",
     "shell.execute_reply": "2024-01-10T14:54:37.036106Z"
    },
    "papermill": {
     "duration": 1.88848,
     "end_time": "2024-01-10T14:54:37.039999",
     "exception": true,
     "start_time": "2024-01-10T14:54:35.151519",
     "status": "failed"
    },
    "tags": []
   },
   "outputs": [
    {
     "ename": "KeyError",
     "evalue": "\"['pizza_name_id'] not in index\"",
     "output_type": "error",
     "traceback": [
      "\u001b[0;31m---------------------------------------------------------------------------\u001b[0m",
      "\u001b[0;31mKeyError\u001b[0m                                  Traceback (most recent call last)",
      "Cell \u001b[0;32mIn[14], line 1\u001b[0m\n\u001b[0;32m----> 1\u001b[0m data_encoded \u001b[38;5;241m=\u001b[39m \u001b[43mpd\u001b[49m\u001b[38;5;241;43m.\u001b[39;49m\u001b[43mget_dummies\u001b[49m\u001b[43m(\u001b[49m\u001b[43mdf\u001b[49m\u001b[43m,\u001b[49m\u001b[43m \u001b[49m\u001b[43mcolumns\u001b[49m\u001b[38;5;241;43m=\u001b[39;49m\u001b[43m[\u001b[49m\u001b[38;5;124;43m'\u001b[39;49m\u001b[38;5;124;43mpizza_name_id\u001b[39;49m\u001b[38;5;124;43m'\u001b[39;49m\u001b[43m,\u001b[49m\u001b[43m \u001b[49m\u001b[38;5;124;43m'\u001b[39;49m\u001b[38;5;124;43mpizza_size\u001b[39;49m\u001b[38;5;124;43m'\u001b[39;49m\u001b[43m,\u001b[49m\u001b[43m \u001b[49m\u001b[38;5;124;43m'\u001b[39;49m\u001b[38;5;124;43mpizza_category\u001b[39;49m\u001b[38;5;124;43m'\u001b[39;49m\u001b[43m]\u001b[49m\u001b[43m)\u001b[49m\n",
      "File \u001b[0;32m/opt/conda/lib/python3.10/site-packages/pandas/core/reshape/encoding.py:158\u001b[0m, in \u001b[0;36mget_dummies\u001b[0;34m(data, prefix, prefix_sep, dummy_na, columns, sparse, drop_first, dtype)\u001b[0m\n\u001b[1;32m    156\u001b[0m     \u001b[38;5;28;01mraise\u001b[39;00m \u001b[38;5;167;01mTypeError\u001b[39;00m(\u001b[38;5;124m\"\u001b[39m\u001b[38;5;124mInput must be a list-like for parameter `columns`\u001b[39m\u001b[38;5;124m\"\u001b[39m)\n\u001b[1;32m    157\u001b[0m \u001b[38;5;28;01melse\u001b[39;00m:\n\u001b[0;32m--> 158\u001b[0m     data_to_encode \u001b[38;5;241m=\u001b[39m \u001b[43mdata\u001b[49m\u001b[43m[\u001b[49m\u001b[43mcolumns\u001b[49m\u001b[43m]\u001b[49m\n\u001b[1;32m    160\u001b[0m \u001b[38;5;66;03m# validate prefixes and separator to avoid silently dropping cols\u001b[39;00m\n\u001b[1;32m    161\u001b[0m \u001b[38;5;28;01mdef\u001b[39;00m \u001b[38;5;21mcheck_len\u001b[39m(item, name):\n",
      "File \u001b[0;32m/opt/conda/lib/python3.10/site-packages/pandas/core/frame.py:3767\u001b[0m, in \u001b[0;36mDataFrame.__getitem__\u001b[0;34m(self, key)\u001b[0m\n\u001b[1;32m   3765\u001b[0m     \u001b[38;5;28;01mif\u001b[39;00m is_iterator(key):\n\u001b[1;32m   3766\u001b[0m         key \u001b[38;5;241m=\u001b[39m \u001b[38;5;28mlist\u001b[39m(key)\n\u001b[0;32m-> 3767\u001b[0m     indexer \u001b[38;5;241m=\u001b[39m \u001b[38;5;28;43mself\u001b[39;49m\u001b[38;5;241;43m.\u001b[39;49m\u001b[43mcolumns\u001b[49m\u001b[38;5;241;43m.\u001b[39;49m\u001b[43m_get_indexer_strict\u001b[49m\u001b[43m(\u001b[49m\u001b[43mkey\u001b[49m\u001b[43m,\u001b[49m\u001b[43m \u001b[49m\u001b[38;5;124;43m\"\u001b[39;49m\u001b[38;5;124;43mcolumns\u001b[39;49m\u001b[38;5;124;43m\"\u001b[39;49m\u001b[43m)\u001b[49m[\u001b[38;5;241m1\u001b[39m]\n\u001b[1;32m   3769\u001b[0m \u001b[38;5;66;03m# take() does not accept boolean indexers\u001b[39;00m\n\u001b[1;32m   3770\u001b[0m \u001b[38;5;28;01mif\u001b[39;00m \u001b[38;5;28mgetattr\u001b[39m(indexer, \u001b[38;5;124m\"\u001b[39m\u001b[38;5;124mdtype\u001b[39m\u001b[38;5;124m\"\u001b[39m, \u001b[38;5;28;01mNone\u001b[39;00m) \u001b[38;5;241m==\u001b[39m \u001b[38;5;28mbool\u001b[39m:\n",
      "File \u001b[0;32m/opt/conda/lib/python3.10/site-packages/pandas/core/indexes/base.py:5877\u001b[0m, in \u001b[0;36mIndex._get_indexer_strict\u001b[0;34m(self, key, axis_name)\u001b[0m\n\u001b[1;32m   5874\u001b[0m \u001b[38;5;28;01melse\u001b[39;00m:\n\u001b[1;32m   5875\u001b[0m     keyarr, indexer, new_indexer \u001b[38;5;241m=\u001b[39m \u001b[38;5;28mself\u001b[39m\u001b[38;5;241m.\u001b[39m_reindex_non_unique(keyarr)\n\u001b[0;32m-> 5877\u001b[0m \u001b[38;5;28;43mself\u001b[39;49m\u001b[38;5;241;43m.\u001b[39;49m\u001b[43m_raise_if_missing\u001b[49m\u001b[43m(\u001b[49m\u001b[43mkeyarr\u001b[49m\u001b[43m,\u001b[49m\u001b[43m \u001b[49m\u001b[43mindexer\u001b[49m\u001b[43m,\u001b[49m\u001b[43m \u001b[49m\u001b[43maxis_name\u001b[49m\u001b[43m)\u001b[49m\n\u001b[1;32m   5879\u001b[0m keyarr \u001b[38;5;241m=\u001b[39m \u001b[38;5;28mself\u001b[39m\u001b[38;5;241m.\u001b[39mtake(indexer)\n\u001b[1;32m   5880\u001b[0m \u001b[38;5;28;01mif\u001b[39;00m \u001b[38;5;28misinstance\u001b[39m(key, Index):\n\u001b[1;32m   5881\u001b[0m     \u001b[38;5;66;03m# GH 42790 - Preserve name from an Index\u001b[39;00m\n",
      "File \u001b[0;32m/opt/conda/lib/python3.10/site-packages/pandas/core/indexes/base.py:5941\u001b[0m, in \u001b[0;36mIndex._raise_if_missing\u001b[0;34m(self, key, indexer, axis_name)\u001b[0m\n\u001b[1;32m   5938\u001b[0m     \u001b[38;5;28;01mraise\u001b[39;00m \u001b[38;5;167;01mKeyError\u001b[39;00m(\u001b[38;5;124mf\u001b[39m\u001b[38;5;124m\"\u001b[39m\u001b[38;5;124mNone of [\u001b[39m\u001b[38;5;132;01m{\u001b[39;00mkey\u001b[38;5;132;01m}\u001b[39;00m\u001b[38;5;124m] are in the [\u001b[39m\u001b[38;5;132;01m{\u001b[39;00maxis_name\u001b[38;5;132;01m}\u001b[39;00m\u001b[38;5;124m]\u001b[39m\u001b[38;5;124m\"\u001b[39m)\n\u001b[1;32m   5940\u001b[0m not_found \u001b[38;5;241m=\u001b[39m \u001b[38;5;28mlist\u001b[39m(ensure_index(key)[missing_mask\u001b[38;5;241m.\u001b[39mnonzero()[\u001b[38;5;241m0\u001b[39m]]\u001b[38;5;241m.\u001b[39munique())\n\u001b[0;32m-> 5941\u001b[0m \u001b[38;5;28;01mraise\u001b[39;00m \u001b[38;5;167;01mKeyError\u001b[39;00m(\u001b[38;5;124mf\u001b[39m\u001b[38;5;124m\"\u001b[39m\u001b[38;5;132;01m{\u001b[39;00mnot_found\u001b[38;5;132;01m}\u001b[39;00m\u001b[38;5;124m not in index\u001b[39m\u001b[38;5;124m\"\u001b[39m)\n",
      "\u001b[0;31mKeyError\u001b[0m: \"['pizza_name_id'] not in index\""
     ]
    }
   ],
   "source": [
    "data_encoded = pd.get_dummies(df, columns=['pizza_name_id', 'pizza_size', 'pizza_category'])"
   ]
  },
  {
   "cell_type": "code",
   "execution_count": null,
   "id": "b5e09a71",
   "metadata": {
    "execution": {
     "iopub.execute_input": "2024-01-10T13:53:16.037752Z",
     "iopub.status.busy": "2024-01-10T13:53:16.036797Z",
     "iopub.status.idle": "2024-01-10T13:53:16.063335Z",
     "shell.execute_reply": "2024-01-10T13:53:16.062121Z",
     "shell.execute_reply.started": "2024-01-10T13:53:16.037708Z"
    },
    "papermill": {
     "duration": null,
     "end_time": null,
     "exception": null,
     "start_time": null,
     "status": "pending"
    },
    "tags": []
   },
   "outputs": [],
   "source": [
    "data_encoded = data_encoded.astype(int)\n",
    "data_encoded.dtypes"
   ]
  },
  {
   "cell_type": "code",
   "execution_count": null,
   "id": "5b6b7121",
   "metadata": {
    "execution": {
     "iopub.execute_input": "2024-01-10T14:27:52.392855Z",
     "iopub.status.busy": "2024-01-10T14:27:52.391171Z",
     "iopub.status.idle": "2024-01-10T14:27:52.418304Z",
     "shell.execute_reply": "2024-01-10T14:27:52.417371Z",
     "shell.execute_reply.started": "2024-01-10T14:27:52.392802Z"
    },
    "papermill": {
     "duration": null,
     "end_time": null,
     "exception": null,
     "start_time": null,
     "status": "pending"
    },
    "tags": []
   },
   "outputs": [],
   "source": [
    "df.head()"
   ]
  },
  {
   "cell_type": "code",
   "execution_count": null,
   "id": "e79673c7",
   "metadata": {
    "execution": {
     "iopub.execute_input": "2024-01-10T13:53:44.584637Z",
     "iopub.status.busy": "2024-01-10T13:53:44.584180Z",
     "iopub.status.idle": "2024-01-10T13:53:44.609061Z",
     "shell.execute_reply": "2024-01-10T13:53:44.607851Z",
     "shell.execute_reply.started": "2024-01-10T13:53:44.584606Z"
    },
    "papermill": {
     "duration": null,
     "end_time": null,
     "exception": null,
     "start_time": null,
     "status": "pending"
    },
    "tags": []
   },
   "outputs": [],
   "source": [
    "data_encoded.head()"
   ]
  },
  {
   "cell_type": "code",
   "execution_count": null,
   "id": "ee2e8ce9",
   "metadata": {
    "execution": {
     "iopub.execute_input": "2024-01-10T14:35:18.678758Z",
     "iopub.status.busy": "2024-01-10T14:35:18.677693Z",
     "iopub.status.idle": "2024-01-10T14:35:18.738744Z",
     "shell.execute_reply": "2024-01-10T14:35:18.737574Z",
     "shell.execute_reply.started": "2024-01-10T14:35:18.678718Z"
    },
    "papermill": {
     "duration": null,
     "end_time": null,
     "exception": null,
     "start_time": null,
     "status": "pending"
    },
    "tags": []
   },
   "outputs": [],
   "source": [
    "from sklearn.preprocessing import LabelEncoder\n",
    "\n",
    "label_encoder = LabelEncoder()\n",
    "\n",
    "df['pizza_category'] = label_encoder.fit_transform(df['pizza_category'])\n",
    "\n",
    "print(df)"
   ]
  },
  {
   "cell_type": "code",
   "execution_count": null,
   "id": "8b745dc5",
   "metadata": {
    "execution": {
     "iopub.execute_input": "2024-01-10T14:35:41.446103Z",
     "iopub.status.busy": "2024-01-10T14:35:41.445651Z",
     "iopub.status.idle": "2024-01-10T14:35:41.454331Z",
     "shell.execute_reply": "2024-01-10T14:35:41.453080Z",
     "shell.execute_reply.started": "2024-01-10T14:35:41.446067Z"
    },
    "papermill": {
     "duration": null,
     "end_time": null,
     "exception": null,
     "start_time": null,
     "status": "pending"
    },
    "tags": []
   },
   "outputs": [],
   "source": [
    "X = df.drop(['pizza_category', 'pizza_size'], axis=1)\n",
    "y = df['pizza_category']"
   ]
  },
  {
   "cell_type": "code",
   "execution_count": null,
   "id": "7a1b47c1",
   "metadata": {
    "execution": {
     "iopub.execute_input": "2024-01-10T14:36:16.732588Z",
     "iopub.status.busy": "2024-01-10T14:36:16.732172Z",
     "iopub.status.idle": "2024-01-10T14:36:16.828956Z",
     "shell.execute_reply": "2024-01-10T14:36:16.827938Z",
     "shell.execute_reply.started": "2024-01-10T14:36:16.732559Z"
    },
    "papermill": {
     "duration": null,
     "end_time": null,
     "exception": null,
     "start_time": null,
     "status": "pending"
    },
    "tags": []
   },
   "outputs": [],
   "source": [
    "from sklearn.model_selection import train_test_split\n",
    "\n",
    "X_train, X_test, y_train, y_test = train_test_split(X, y, test_size=0.2, random_state=42)"
   ]
  },
  {
   "cell_type": "code",
   "execution_count": null,
   "id": "df54ee7f",
   "metadata": {
    "execution": {
     "iopub.execute_input": "2024-01-10T14:36:53.653049Z",
     "iopub.status.busy": "2024-01-10T14:36:53.652642Z",
     "iopub.status.idle": "2024-01-10T14:37:08.103395Z",
     "shell.execute_reply": "2024-01-10T14:37:08.102307Z",
     "shell.execute_reply.started": "2024-01-10T14:36:53.653019Z"
    },
    "papermill": {
     "duration": null,
     "end_time": null,
     "exception": null,
     "start_time": null,
     "status": "pending"
    },
    "tags": []
   },
   "outputs": [],
   "source": [
    "from sklearn.ensemble import RandomForestRegressor\n",
    "\n",
    "model = RandomForestRegressor()\n",
    "model.fit(X_train, y_train)"
   ]
  },
  {
   "cell_type": "code",
   "execution_count": null,
   "id": "01c28db3",
   "metadata": {
    "execution": {
     "iopub.execute_input": "2024-01-10T14:40:48.855473Z",
     "iopub.status.busy": "2024-01-10T14:40:48.855045Z",
     "iopub.status.idle": "2024-01-10T14:40:49.123139Z",
     "shell.execute_reply": "2024-01-10T14:40:49.122033Z",
     "shell.execute_reply.started": "2024-01-10T14:40:48.855437Z"
    },
    "papermill": {
     "duration": null,
     "end_time": null,
     "exception": null,
     "start_time": null,
     "status": "pending"
    },
    "tags": []
   },
   "outputs": [],
   "source": [
    "from sklearn.metrics import r2_score\n",
    "\n",
    "p = model.predict(X_test)\n",
    "\n",
    "y = p[:len(y_test)]\n",
    "\n",
    "print(r2_score(y_test, y))\n"
   ]
  },
  {
   "cell_type": "code",
   "execution_count": null,
   "id": "59469052",
   "metadata": {
    "execution": {
     "iopub.execute_input": "2024-01-10T14:42:27.726813Z",
     "iopub.status.busy": "2024-01-10T14:42:27.726318Z",
     "iopub.status.idle": "2024-01-10T14:42:32.131284Z",
     "shell.execute_reply": "2024-01-10T14:42:32.130124Z",
     "shell.execute_reply.started": "2024-01-10T14:42:27.726780Z"
    },
    "papermill": {
     "duration": null,
     "end_time": null,
     "exception": null,
     "start_time": null,
     "status": "pending"
    },
    "tags": []
   },
   "outputs": [],
   "source": [
    "from sklearn.ensemble import GradientBoostingRegressor\n",
    "\n",
    "\n",
    "model_gb = GradientBoostingRegressor(random_state=42)\n",
    "\n",
    "model_gb.fit(X_train, y_train)\n",
    "\n",
    "y_pred_gb = model_gb.predict(X_test)\n",
    "\n",
    "r2_gb = r2_score(y_test, y_pred_gb)\n",
    "\n",
    "print(f\"R-squared score with Gradient Boosting Regressor: {r2_gb}\")"
   ]
  },
  {
   "cell_type": "code",
   "execution_count": null,
   "id": "cd9cc524",
   "metadata": {
    "execution": {
     "iopub.execute_input": "2024-01-10T14:48:56.376774Z",
     "iopub.status.busy": "2024-01-10T14:48:56.376347Z",
     "iopub.status.idle": "2024-01-10T14:48:56.768059Z",
     "shell.execute_reply": "2024-01-10T14:48:56.766896Z",
     "shell.execute_reply.started": "2024-01-10T14:48:56.376741Z"
    },
    "papermill": {
     "duration": null,
     "end_time": null,
     "exception": null,
     "start_time": null,
     "status": "pending"
    },
    "tags": []
   },
   "outputs": [],
   "source": [
    "import xgboost as xgb\n",
    "\n",
    "dtrain = xgb.DMatrix(X_train, label=y_train)\n",
    "dtest = xgb.DMatrix(X_test, label=y_test)\n",
    "\n",
    "params = {\n",
    "    'objective': 'reg:squarederror',\n",
    "    'max_depth': 3,\n",
    "    'learning_rate': 0.1,\n",
    "    'n_estimators': 100,\n",
    "    'subsample': 0.8,\n",
    "    'colsample_bytree': 0.8,\n",
    "    'eval_metric': 'rmse'\n",
    "}\n",
    "\n",
    "model_xgb = xgb.train(params, dtrain, num_boost_round=100)\n",
    "\n",
    "y_pred_xgb = model_xgb.predict(dtest)\n",
    "\n",
    "r2_xgb = r2_score(y_test, y_pred_xgb)\n",
    "\n",
    "print(f\"R-squared score with XGBoost: {r2_xgb}\")"
   ]
  },
  {
   "cell_type": "code",
   "execution_count": null,
   "id": "6d79a4fc",
   "metadata": {
    "execution": {
     "iopub.execute_input": "2024-01-10T14:50:36.084817Z",
     "iopub.status.busy": "2024-01-10T14:50:36.084401Z",
     "iopub.status.idle": "2024-01-10T14:50:36.500873Z",
     "shell.execute_reply": "2024-01-10T14:50:36.499419Z",
     "shell.execute_reply.started": "2024-01-10T14:50:36.084784Z"
    },
    "papermill": {
     "duration": null,
     "end_time": null,
     "exception": null,
     "start_time": null,
     "status": "pending"
    },
    "tags": []
   },
   "outputs": [],
   "source": [
    "from sklearn.linear_model import LogisticRegression\n",
    "from sklearn.metrics import accuracy_score\n",
    "\n",
    "scaler = StandardScaler()\n",
    "X_train_scaled = scaler.fit_transform(X_train)\n",
    "X_test_scaled = scaler.transform(X_test)\n",
    "\n",
    "model_logistic = LogisticRegression(random_state=42)\n",
    "\n",
    "model_logistic.fit(X_train_scaled, y_train)\n",
    "\n",
    "y_pred_logistic = model_logistic.predict(X_test_scaled)\n",
    "\n",
    "accuracy_logistic = accuracy_score(y_test, y_pred_logistic)\n",
    "print(f\"Accuracy with Logistic Regression: {accuracy_logistic}\")\n"
   ]
  },
  {
   "cell_type": "code",
   "execution_count": null,
   "id": "ef2cfa98",
   "metadata": {
    "execution": {
     "iopub.execute_input": "2024-01-10T14:51:01.104546Z",
     "iopub.status.busy": "2024-01-10T14:51:01.103584Z",
     "iopub.status.idle": "2024-01-10T14:51:11.660852Z",
     "shell.execute_reply": "2024-01-10T14:51:11.659463Z",
     "shell.execute_reply.started": "2024-01-10T14:51:01.104510Z"
    },
    "papermill": {
     "duration": null,
     "end_time": null,
     "exception": null,
     "start_time": null,
     "status": "pending"
    },
    "tags": []
   },
   "outputs": [],
   "source": [
    "from sklearn.ensemble import RandomForestClassifier\n",
    "from sklearn.metrics import accuracy_score, classification_report\n",
    "\n",
    "\n",
    "model_rf = RandomForestClassifier(random_state=42)\n",
    "\n",
    "model_rf.fit(X_train, y_train)\n",
    "\n",
    "y_pred_rf = model_rf.predict(X_test)\n",
    "\n",
    "accuracy_rf = accuracy_score(y_test, y_pred_rf)\n",
    "print(f\"Accuracy with Random Forest Classifier: {accuracy_rf}\")\n",
    "print(\"Classification Report:\\n\", classification_report(y_test, y_pred_rf))\n"
   ]
  }
 ],
 "metadata": {
  "kaggle": {
   "accelerator": "none",
   "dataSources": [
    {
     "datasetId": 4269243,
     "sourceId": 7351371,
     "sourceType": "datasetVersion"
    }
   ],
   "dockerImageVersionId": 30626,
   "isGpuEnabled": false,
   "isInternetEnabled": true,
   "language": "python",
   "sourceType": "notebook"
  },
  "kernelspec": {
   "display_name": "Python 3",
   "language": "python",
   "name": "python3"
  },
  "language_info": {
   "codemirror_mode": {
    "name": "ipython",
    "version": 3
   },
   "file_extension": ".py",
   "mimetype": "text/x-python",
   "name": "python",
   "nbconvert_exporter": "python",
   "pygments_lexer": "ipython3",
   "version": "3.10.12"
  },
  "papermill": {
   "default_parameters": {},
   "duration": 11.701145,
   "end_time": "2024-01-10T14:54:38.078399",
   "environment_variables": {},
   "exception": true,
   "input_path": "__notebook__.ipynb",
   "output_path": "__notebook__.ipynb",
   "parameters": {},
   "start_time": "2024-01-10T14:54:26.377254",
   "version": "2.4.0"
  }
 },
 "nbformat": 4,
 "nbformat_minor": 5
}
